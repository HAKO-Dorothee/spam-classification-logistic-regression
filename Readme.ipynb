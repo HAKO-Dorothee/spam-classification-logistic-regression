{
 "cells": [
  {
   "cell_type": "markdown",
   "id": "18b1485a-6ca9-4117-a036-ba18ac62122e",
   "metadata": {},
   "source": [
    "# 📧 Spam Classification using Logistic Regression\n",
    "\n",
    "This project uses **logistic regression** to predict whether an email is spam or not, based on the [Spambase dataset](https://archive.ics.uci.edu/ml/datasets/spambase). It is a complete machine learning pipeline built in Python.\n",
    "\n",
    "## 🔍 Objective\n",
    "Build a **binary classification model** to distinguish between spam and non-spam emails using supervised learning techniques.\n",
    "\n",
    "## 📁 Dataset\n",
    "- Source: UCI Machine Learning Repository\n",
    "- Number of samples: 4,601 emails\n",
    "- Number of features: 57\n",
    "- Target: \n",
    "  - `1` → Spam  \n",
    "  - `0` → Not Spam\n",
    "\n",
    "## 🛠️ Technologies & Libraries\n",
    "- Python (Pandas, NumPy, Matplotlib, Seaborn)\n",
    "- Scikit-learn\n",
    "- Jupyter Notebook\n",
    "\n",
    "## 📊 Process Overview\n",
    "1. **Data Cleaning & Preprocessing**\n",
    "   - Normalization\n",
    "   - Check for missing values\n",
    "   - Train-test split (70/30)\n",
    "   \n",
    "2. **Exploratory Data Analysis (EDA)**\n",
    "   - Boxplots for outlier detection\n",
    "   - Correlation matrix and heatmap\n",
    "   - Class distribution\n",
    "\n",
    "3. **Model Building**\n",
    "   - Logistic Regression (baseline)\n",
    "   - Evaluation using:\n",
    "     - Accuracy\n",
    "     - Confusion Matrix\n",
    "     - Classification Report\n",
    "     - ROC Curve & AUC\n",
    "\n",
    "## 🧠 Results\n",
    "- **Accuracy**: 92.8%\n",
    "- **Precision**: 93% (for spam)\n",
    "- **Recall**: 89% (for spam)\n",
    "- **F1-score**: 91% (for spam)\n",
    "- **AUC Score**: ≈ 0.97\n",
    "\n",
    "## 📈 Visualization\n",
    "- Heatmap of correlations\n",
    "- ROC Curve (Receiver Operating Characteristic)\n",
    "- Boxplots to analyze feature distributions\n",
    "\n",
    "## ✅ Conclusion\n",
    "The logistic regression model performs well on this classification problem with high accuracy and good generalization. This project serves as a great introduction to binary classification problems in machine learning.\n",
    "\n",
    "---\n",
    "\n",
    "Feel free to explore the notebook to understand each step!\n",
    "\n"
   ]
  },
  {
   "cell_type": "code",
   "execution_count": null,
   "id": "fef8da42-0eec-49c3-b00e-210d61bb661f",
   "metadata": {},
   "outputs": [],
   "source": []
  }
 ],
 "metadata": {
  "kernelspec": {
   "display_name": "Python [conda env:base] *",
   "language": "python",
   "name": "conda-base-py"
  },
  "language_info": {
   "codemirror_mode": {
    "name": "ipython",
    "version": 3
   },
   "file_extension": ".py",
   "mimetype": "text/x-python",
   "name": "python",
   "nbconvert_exporter": "python",
   "pygments_lexer": "ipython3",
   "version": "3.12.7"
  }
 },
 "nbformat": 4,
 "nbformat_minor": 5
}
